{
  "nbformat": 4,
  "nbformat_minor": 0,
  "metadata": {
    "colab": {
      "name": "Copy of DS_Unit_1_Sprint_Challenge_2_Statistics.ipynb",
      "provenance": [],
      "collapsed_sections": [],
      "include_colab_link": true
    },
    "kernelspec": {
      "name": "python3",
      "display_name": "Python 3"
    }
  },
  "cells": [
    {
      "cell_type": "markdown",
      "metadata": {
        "id": "view-in-github",
        "colab_type": "text"
      },
      "source": [
        "<a href=\"https://colab.research.google.com/github/awidener21/DS-Unit-1-Sprint-1-Data-Wrangling-and-Storytelling/blob/master/Copy_of_DS_Unit_1_Sprint_Challenge_2_Statistics.ipynb\" target=\"_parent\"><img src=\"https://colab.research.google.com/assets/colab-badge.svg\" alt=\"Open In Colab\"/></a>"
      ]
    },
    {
      "cell_type": "markdown",
      "metadata": {
        "id": "NooAiTdnafkz",
        "colab_type": "text"
      },
      "source": [
        "# Data Science Unit 1 Sprint Challenge 2\n",
        "\n",
        "## Exploring Data, Testing Hypotheses\n",
        "\n",
        "In this sprint challenge you will look at a dataset of people being approved or rejected for credit.\n",
        "\n",
        "https://archive.ics.uci.edu/ml/datasets/Credit+Approval\n",
        "\n",
        "Data Set Information: This file concerns credit card applications. All attribute names and values have been changed to meaningless symbols to protect confidentiality of the data. This dataset is interesting because there is a good mix of attributes -- continuous, nominal with small numbers of values, and nominal with larger numbers of values. There are also a few missing values.\n",
        "\n",
        "Attribute Information:\n",
        "- A1: b, a.\n",
        "- A2: continuous.\n",
        "- A3: continuous.\n",
        "- A4: u, y, l, t.\n",
        "- A5: g, p, gg.\n",
        "- A6: c, d, cc, i, j, k, m, r, q, w, x, e, aa, ff.\n",
        "- A7: v, h, bb, j, n, z, dd, ff, o.\n",
        "- A8: continuous.\n",
        "- A9: t, f.\n",
        "- A10: t, f.\n",
        "- A11: continuous.\n",
        "- A12: t, f.\n",
        "- A13: g, p, s.\n",
        "- A14: continuous.\n",
        "- A15: continuous.\n",
        "- A16: +,- (class attribute)\n",
        "\n",
        "Yes, most of that doesn't mean anything. A16 is a variable that indicates whether or not a person's request for credit has been approved or denied. This is a good candidate for a y variable since we might want to use the other features to predict this one. The remaining variables have been obfuscated for privacy - a challenge you may have to deal with in your data science career.\n",
        "\n",
        "Sprint challenges are evaluated based on satisfactory completion of each part. It is suggested you work through it in order, getting each aspect reasonably working, before trying to deeply explore, iterate, or refine any given step. Once you get to the end, if you want to go back and improve things, go for it!"
      ]
    },
    {
      "cell_type": "markdown",
      "metadata": {
        "id": "5wch6ksCbJtZ",
        "colab_type": "text"
      },
      "source": [
        "## Part 1 - Load and validate the data\n",
        "\n",
        "- Load the data as a `pandas` data frame.\n",
        "- Validate that it has the appropriate number of observations (you can check the raw file, and also read the dataset description from UCI).\n",
        "- UCI says there should be missing data - check, and if necessary change the data so pandas recognizes it as na\n",
        "- Make sure that the loaded features are of the types described above (continuous values should be treated as float), and correct as necessary\n",
        "\n",
        "This is review, but skills that you'll use at the start of any data exploration. Further, you may have to do some investigation to figure out which file to load from - that is part of the puzzle."
      ]
    },
    {
      "cell_type": "code",
      "metadata": {
        "id": "Q79xDLckzibS",
        "colab_type": "code",
        "colab": {}
      },
      "source": [
        "# TODO"
      ],
      "execution_count": 0,
      "outputs": []
    },
    {
      "cell_type": "code",
      "metadata": {
        "id": "C1iSgMyHX8ll",
        "colab_type": "code",
        "colab": {
          "base_uri": "https://localhost:8080/",
          "height": 71
        },
        "outputId": "ea9773cc-5630-4038-c4ca-b3f567615413"
      },
      "source": [
        "import pandas as pd\n",
        "import numpy as np\n",
        "from scipy import stats\n",
        "import seaborn as sns\n",
        "import matplotlib.pyplot as plt\n",
        "from scipy.stats import ttest_ind"
      ],
      "execution_count": 1,
      "outputs": [
        {
          "output_type": "stream",
          "text": [
            "/usr/local/lib/python3.6/dist-packages/statsmodels/tools/_testing.py:19: FutureWarning: pandas.util.testing is deprecated. Use the functions in the public API at pandas.testing instead.\n",
            "  import pandas.util.testing as tm\n"
          ],
          "name": "stderr"
        }
      ]
    },
    {
      "cell_type": "code",
      "metadata": {
        "colab_type": "code",
        "id": "hBjrN85CoOzE",
        "colab": {
          "base_uri": "https://localhost:8080/",
          "height": 204
        },
        "outputId": "ee914ee9-8e39-422f-9c10-fe59f7a83017"
      },
      "source": [
        "\n",
        "\n",
        "names = ['A1','A2','A3','A4','A5','A6','A7','A8','A9','A10','A11','A12','A13','A14','A15','A16']\n",
        "df = pd.read_csv('https://archive.ics.uci.edu/ml/machine-learning-databases/credit-screening/crx.data', header=None,names=names)\n",
        "df.head()"
      ],
      "execution_count": 3,
      "outputs": [
        {
          "output_type": "execute_result",
          "data": {
            "text/html": [
              "<div>\n",
              "<style scoped>\n",
              "    .dataframe tbody tr th:only-of-type {\n",
              "        vertical-align: middle;\n",
              "    }\n",
              "\n",
              "    .dataframe tbody tr th {\n",
              "        vertical-align: top;\n",
              "    }\n",
              "\n",
              "    .dataframe thead th {\n",
              "        text-align: right;\n",
              "    }\n",
              "</style>\n",
              "<table border=\"1\" class=\"dataframe\">\n",
              "  <thead>\n",
              "    <tr style=\"text-align: right;\">\n",
              "      <th></th>\n",
              "      <th>A1</th>\n",
              "      <th>A2</th>\n",
              "      <th>A3</th>\n",
              "      <th>A4</th>\n",
              "      <th>A5</th>\n",
              "      <th>A6</th>\n",
              "      <th>A7</th>\n",
              "      <th>A8</th>\n",
              "      <th>A9</th>\n",
              "      <th>A10</th>\n",
              "      <th>A11</th>\n",
              "      <th>A12</th>\n",
              "      <th>A13</th>\n",
              "      <th>A14</th>\n",
              "      <th>A15</th>\n",
              "      <th>A16</th>\n",
              "    </tr>\n",
              "  </thead>\n",
              "  <tbody>\n",
              "    <tr>\n",
              "      <th>0</th>\n",
              "      <td>b</td>\n",
              "      <td>30.83</td>\n",
              "      <td>0.000</td>\n",
              "      <td>u</td>\n",
              "      <td>g</td>\n",
              "      <td>w</td>\n",
              "      <td>v</td>\n",
              "      <td>1.25</td>\n",
              "      <td>t</td>\n",
              "      <td>t</td>\n",
              "      <td>1</td>\n",
              "      <td>f</td>\n",
              "      <td>g</td>\n",
              "      <td>00202</td>\n",
              "      <td>0</td>\n",
              "      <td>+</td>\n",
              "    </tr>\n",
              "    <tr>\n",
              "      <th>1</th>\n",
              "      <td>a</td>\n",
              "      <td>58.67</td>\n",
              "      <td>4.460</td>\n",
              "      <td>u</td>\n",
              "      <td>g</td>\n",
              "      <td>q</td>\n",
              "      <td>h</td>\n",
              "      <td>3.04</td>\n",
              "      <td>t</td>\n",
              "      <td>t</td>\n",
              "      <td>6</td>\n",
              "      <td>f</td>\n",
              "      <td>g</td>\n",
              "      <td>00043</td>\n",
              "      <td>560</td>\n",
              "      <td>+</td>\n",
              "    </tr>\n",
              "    <tr>\n",
              "      <th>2</th>\n",
              "      <td>a</td>\n",
              "      <td>24.50</td>\n",
              "      <td>0.500</td>\n",
              "      <td>u</td>\n",
              "      <td>g</td>\n",
              "      <td>q</td>\n",
              "      <td>h</td>\n",
              "      <td>1.50</td>\n",
              "      <td>t</td>\n",
              "      <td>f</td>\n",
              "      <td>0</td>\n",
              "      <td>f</td>\n",
              "      <td>g</td>\n",
              "      <td>00280</td>\n",
              "      <td>824</td>\n",
              "      <td>+</td>\n",
              "    </tr>\n",
              "    <tr>\n",
              "      <th>3</th>\n",
              "      <td>b</td>\n",
              "      <td>27.83</td>\n",
              "      <td>1.540</td>\n",
              "      <td>u</td>\n",
              "      <td>g</td>\n",
              "      <td>w</td>\n",
              "      <td>v</td>\n",
              "      <td>3.75</td>\n",
              "      <td>t</td>\n",
              "      <td>t</td>\n",
              "      <td>5</td>\n",
              "      <td>t</td>\n",
              "      <td>g</td>\n",
              "      <td>00100</td>\n",
              "      <td>3</td>\n",
              "      <td>+</td>\n",
              "    </tr>\n",
              "    <tr>\n",
              "      <th>4</th>\n",
              "      <td>b</td>\n",
              "      <td>20.17</td>\n",
              "      <td>5.625</td>\n",
              "      <td>u</td>\n",
              "      <td>g</td>\n",
              "      <td>w</td>\n",
              "      <td>v</td>\n",
              "      <td>1.71</td>\n",
              "      <td>t</td>\n",
              "      <td>f</td>\n",
              "      <td>0</td>\n",
              "      <td>f</td>\n",
              "      <td>s</td>\n",
              "      <td>00120</td>\n",
              "      <td>0</td>\n",
              "      <td>+</td>\n",
              "    </tr>\n",
              "  </tbody>\n",
              "</table>\n",
              "</div>"
            ],
            "text/plain": [
              "  A1     A2     A3 A4 A5 A6 A7    A8 A9 A10  A11 A12 A13    A14  A15 A16\n",
              "0  b  30.83  0.000  u  g  w  v  1.25  t   t    1   f   g  00202    0   +\n",
              "1  a  58.67  4.460  u  g  q  h  3.04  t   t    6   f   g  00043  560   +\n",
              "2  a  24.50  0.500  u  g  q  h  1.50  t   f    0   f   g  00280  824   +\n",
              "3  b  27.83  1.540  u  g  w  v  3.75  t   t    5   t   g  00100    3   +\n",
              "4  b  20.17  5.625  u  g  w  v  1.71  t   f    0   f   s  00120    0   +"
            ]
          },
          "metadata": {
            "tags": []
          },
          "execution_count": 3
        }
      ]
    },
    {
      "cell_type": "code",
      "metadata": {
        "id": "gmWtx7TkohSA",
        "colab_type": "code",
        "colab": {
          "base_uri": "https://localhost:8080/",
          "height": 297
        },
        "outputId": "b99ac183-cf3f-4efc-856b-722c9a7e0b2d"
      },
      "source": [
        "df.isnull().sum()\n",
        "df.describe()"
      ],
      "execution_count": 6,
      "outputs": [
        {
          "output_type": "execute_result",
          "data": {
            "text/html": [
              "<div>\n",
              "<style scoped>\n",
              "    .dataframe tbody tr th:only-of-type {\n",
              "        vertical-align: middle;\n",
              "    }\n",
              "\n",
              "    .dataframe tbody tr th {\n",
              "        vertical-align: top;\n",
              "    }\n",
              "\n",
              "    .dataframe thead th {\n",
              "        text-align: right;\n",
              "    }\n",
              "</style>\n",
              "<table border=\"1\" class=\"dataframe\">\n",
              "  <thead>\n",
              "    <tr style=\"text-align: right;\">\n",
              "      <th></th>\n",
              "      <th>A3</th>\n",
              "      <th>A8</th>\n",
              "      <th>A11</th>\n",
              "      <th>A15</th>\n",
              "    </tr>\n",
              "  </thead>\n",
              "  <tbody>\n",
              "    <tr>\n",
              "      <th>count</th>\n",
              "      <td>690.000000</td>\n",
              "      <td>690.000000</td>\n",
              "      <td>690.00000</td>\n",
              "      <td>690.000000</td>\n",
              "    </tr>\n",
              "    <tr>\n",
              "      <th>mean</th>\n",
              "      <td>4.758725</td>\n",
              "      <td>2.223406</td>\n",
              "      <td>2.40000</td>\n",
              "      <td>1017.385507</td>\n",
              "    </tr>\n",
              "    <tr>\n",
              "      <th>std</th>\n",
              "      <td>4.978163</td>\n",
              "      <td>3.346513</td>\n",
              "      <td>4.86294</td>\n",
              "      <td>5210.102598</td>\n",
              "    </tr>\n",
              "    <tr>\n",
              "      <th>min</th>\n",
              "      <td>0.000000</td>\n",
              "      <td>0.000000</td>\n",
              "      <td>0.00000</td>\n",
              "      <td>0.000000</td>\n",
              "    </tr>\n",
              "    <tr>\n",
              "      <th>25%</th>\n",
              "      <td>1.000000</td>\n",
              "      <td>0.165000</td>\n",
              "      <td>0.00000</td>\n",
              "      <td>0.000000</td>\n",
              "    </tr>\n",
              "    <tr>\n",
              "      <th>50%</th>\n",
              "      <td>2.750000</td>\n",
              "      <td>1.000000</td>\n",
              "      <td>0.00000</td>\n",
              "      <td>5.000000</td>\n",
              "    </tr>\n",
              "    <tr>\n",
              "      <th>75%</th>\n",
              "      <td>7.207500</td>\n",
              "      <td>2.625000</td>\n",
              "      <td>3.00000</td>\n",
              "      <td>395.500000</td>\n",
              "    </tr>\n",
              "    <tr>\n",
              "      <th>max</th>\n",
              "      <td>28.000000</td>\n",
              "      <td>28.500000</td>\n",
              "      <td>67.00000</td>\n",
              "      <td>100000.000000</td>\n",
              "    </tr>\n",
              "  </tbody>\n",
              "</table>\n",
              "</div>"
            ],
            "text/plain": [
              "               A3          A8        A11            A15\n",
              "count  690.000000  690.000000  690.00000     690.000000\n",
              "mean     4.758725    2.223406    2.40000    1017.385507\n",
              "std      4.978163    3.346513    4.86294    5210.102598\n",
              "min      0.000000    0.000000    0.00000       0.000000\n",
              "25%      1.000000    0.165000    0.00000       0.000000\n",
              "50%      2.750000    1.000000    0.00000       5.000000\n",
              "75%      7.207500    2.625000    3.00000     395.500000\n",
              "max     28.000000   28.500000   67.00000  100000.000000"
            ]
          },
          "metadata": {
            "tags": []
          },
          "execution_count": 6
        }
      ]
    },
    {
      "cell_type": "code",
      "metadata": {
        "id": "iKzUviP7qLdH",
        "colab_type": "code",
        "colab": {
          "base_uri": "https://localhost:8080/",
          "height": 102
        },
        "outputId": "a73d3fe6-ea9b-4a28-b2d1-77f0c8a2617e"
      },
      "source": [
        "num_missing = (df[['A3','A8','A11','A15']] == 0).sum()\n",
        "print(num_missing)"
      ],
      "execution_count": 9,
      "outputs": [
        {
          "output_type": "stream",
          "text": [
            "A3      19\n",
            "A8      70\n",
            "A11    395\n",
            "A15    295\n",
            "dtype: int64\n"
          ],
          "name": "stdout"
        }
      ]
    },
    {
      "cell_type": "code",
      "metadata": {
        "id": "kNLvNoOrrMkQ",
        "colab_type": "code",
        "colab": {
          "base_uri": "https://localhost:8080/",
          "height": 306
        },
        "outputId": "e8799f93-e033-4e0f-d103-43412ae97e04"
      },
      "source": [
        "from numpy import nan\n",
        "df[['A3','A8','A11','A15']] = df[['A3','A8','A11','A15']].replace(0, nan)\n",
        "print(df.isnull().sum())"
      ],
      "execution_count": 17,
      "outputs": [
        {
          "output_type": "stream",
          "text": [
            "A1       0\n",
            "A2       0\n",
            "A3      19\n",
            "A4       0\n",
            "A5       0\n",
            "A6       0\n",
            "A7       0\n",
            "A8      70\n",
            "A9       0\n",
            "A10      0\n",
            "A11    395\n",
            "A12      0\n",
            "A13      0\n",
            "A14      0\n",
            "A15    295\n",
            "A16      0\n",
            "dtype: int64\n"
          ],
          "name": "stdout"
        }
      ]
    },
    {
      "cell_type": "code",
      "metadata": {
        "id": "tri61Y2_tUsN",
        "colab_type": "code",
        "colab": {
          "base_uri": "https://localhost:8080/",
          "height": 1000
        },
        "outputId": "b9830dd2-16ec-4a92-e26b-43b3768af97a"
      },
      "source": [
        "for i in names:\n",
        "  print(df[i].value_counts(), '\\n')"
      ],
      "execution_count": 25,
      "outputs": [
        {
          "output_type": "stream",
          "text": [
            "b    140\n",
            "a     73\n",
            "?      3\n",
            "Name: A1, dtype: int64 \n",
            "\n",
            "27.25    3\n",
            "20.67    3\n",
            "27.83    3\n",
            "25.00    3\n",
            "20.42    3\n",
            "        ..\n",
            "25.25    1\n",
            "31.33    1\n",
            "69.17    1\n",
            "39.50    1\n",
            "16.08    1\n",
            "Name: A2, Length: 169, dtype: int64 \n",
            "\n",
            "3.000    8\n",
            "0.750    6\n",
            "5.000    5\n",
            "6.500    5\n",
            "2.000    5\n",
            "        ..\n",
            "0.710    1\n",
            "2.290    1\n",
            "2.460    1\n",
            "5.665    1\n",
            "5.875    1\n",
            "Name: A3, Length: 120, dtype: int64 \n",
            "\n",
            "u    181\n",
            "y     35\n",
            "Name: A4, dtype: int64 \n",
            "\n",
            "g    181\n",
            "p     35\n",
            "Name: A5, dtype: int64 \n",
            "\n",
            "c     56\n",
            "q     37\n",
            "w     27\n",
            "x     18\n",
            "cc    14\n",
            "m     14\n",
            "aa    13\n",
            "k     11\n",
            "ff     9\n",
            "i      8\n",
            "e      5\n",
            "d      3\n",
            "r      1\n",
            "Name: A6, dtype: int64 \n",
            "\n",
            "v     132\n",
            "h      54\n",
            "bb     15\n",
            "ff      9\n",
            "z       2\n",
            "n       2\n",
            "dd      2\n",
            "Name: A7, dtype: int64 \n",
            "\n",
            "1.000     10\n",
            "1.750     10\n",
            "2.500      9\n",
            "2.000      9\n",
            "0.040      8\n",
            "          ..\n",
            "2.125      1\n",
            "17.500     1\n",
            "3.125      1\n",
            "4.250      1\n",
            "3.750      1\n",
            "Name: A8, Length: 91, dtype: int64 \n",
            "\n",
            "t    164\n",
            "f     52\n",
            "Name: A9, dtype: int64 \n",
            "\n",
            "t    216\n",
            "Name: A10, dtype: int64 \n",
            "\n",
            "1.0     55\n",
            "2.0     33\n",
            "6.0     17\n",
            "3.0     16\n",
            "11.0    14\n",
            "5.0     12\n",
            "7.0     12\n",
            "4.0     11\n",
            "8.0      8\n",
            "9.0      7\n",
            "12.0     7\n",
            "14.0     6\n",
            "10.0     5\n",
            "15.0     3\n",
            "16.0     3\n",
            "17.0     1\n",
            "19.0     1\n",
            "40.0     1\n",
            "13.0     1\n",
            "67.0     1\n",
            "20.0     1\n",
            "23.0     1\n",
            "Name: A11, dtype: int64 \n",
            "\n",
            "f    116\n",
            "t    100\n",
            "Name: A12, dtype: int64 \n",
            "\n",
            "g    216\n",
            "Name: A13, dtype: int64 \n",
            "\n",
            "00000    48\n",
            "00200    12\n",
            "00080    12\n",
            "00120    10\n",
            "00100     8\n",
            "         ..\n",
            "00174     1\n",
            "00032     1\n",
            "00396     1\n",
            "00395     1\n",
            "00253     1\n",
            "Name: A14, Length: 81, dtype: int64 \n",
            "\n",
            "1.0        9\n",
            "500.0      9\n",
            "1000.0     6\n",
            "6.0        5\n",
            "300.0      5\n",
            "          ..\n",
            "134.0      1\n",
            "1344.0     1\n",
            "321.0      1\n",
            "948.0      1\n",
            "26726.0    1\n",
            "Name: A15, Length: 152, dtype: int64 \n",
            "\n",
            "+    152\n",
            "-     64\n",
            "Name: A16, dtype: int64 \n",
            "\n"
          ],
          "name": "stdout"
        }
      ]
    },
    {
      "cell_type": "code",
      "metadata": {
        "id": "akDvcG1Ttn19",
        "colab_type": "code",
        "colab": {}
      },
      "source": [
        "\n",
        "\n",
        "df['A14']= df['A14'].replace({'?':np.NaN})"
      ],
      "execution_count": 0,
      "outputs": []
    },
    {
      "cell_type": "code",
      "metadata": {
        "id": "F2LuQ6_Pt5Wl",
        "colab_type": "code",
        "colab": {
          "base_uri": "https://localhost:8080/",
          "height": 1000
        },
        "outputId": "1080797a-60ec-44e4-9932-6f10e64bedc6"
      },
      "source": [
        "for i in names:\n",
        "  print(df[i].value_counts(), '\\n')"
      ],
      "execution_count": 50,
      "outputs": [
        {
          "output_type": "stream",
          "text": [
            "b    140\n",
            "a     73\n",
            "Name: A1, dtype: int64 \n",
            "\n",
            "23.25    3\n",
            "27.83    3\n",
            "20.67    3\n",
            "20.42    3\n",
            "23.08    3\n",
            "        ..\n",
            "69.17    1\n",
            "39.17    1\n",
            "26.92    1\n",
            "32.17    1\n",
            "30.08    1\n",
            "Name: A2, Length: 168, dtype: int64 \n",
            "\n",
            "3.000    8\n",
            "0.750    6\n",
            "5.000    5\n",
            "6.500    5\n",
            "2.000    5\n",
            "        ..\n",
            "0.710    1\n",
            "2.290    1\n",
            "2.460    1\n",
            "5.665    1\n",
            "5.875    1\n",
            "Name: A3, Length: 120, dtype: int64 \n",
            "\n",
            "u    181\n",
            "y     35\n",
            "Name: A4, dtype: int64 \n",
            "\n",
            "g    181\n",
            "p     35\n",
            "Name: A5, dtype: int64 \n",
            "\n",
            "c     56\n",
            "q     37\n",
            "w     27\n",
            "x     18\n",
            "cc    14\n",
            "m     14\n",
            "aa    13\n",
            "k     11\n",
            "ff     9\n",
            "i      8\n",
            "e      5\n",
            "d      3\n",
            "r      1\n",
            "Name: A6, dtype: int64 \n",
            "\n",
            "v     132\n",
            "h      54\n",
            "bb     15\n",
            "ff      9\n",
            "z       2\n",
            "n       2\n",
            "dd      2\n",
            "Name: A7, dtype: int64 \n",
            "\n",
            "1.000     10\n",
            "1.750     10\n",
            "2.500      9\n",
            "2.000      9\n",
            "0.040      8\n",
            "          ..\n",
            "2.125      1\n",
            "17.500     1\n",
            "3.125      1\n",
            "4.250      1\n",
            "3.750      1\n",
            "Name: A8, Length: 91, dtype: int64 \n",
            "\n",
            "t    164\n",
            "f     52\n",
            "Name: A9, dtype: int64 \n",
            "\n",
            "t    216\n",
            "Name: A10, dtype: int64 \n",
            "\n",
            "1.0     55\n",
            "2.0     33\n",
            "6.0     17\n",
            "3.0     16\n",
            "11.0    14\n",
            "5.0     12\n",
            "7.0     12\n",
            "4.0     11\n",
            "8.0      8\n",
            "9.0      7\n",
            "12.0     7\n",
            "14.0     6\n",
            "10.0     5\n",
            "15.0     3\n",
            "16.0     3\n",
            "17.0     1\n",
            "19.0     1\n",
            "40.0     1\n",
            "13.0     1\n",
            "67.0     1\n",
            "20.0     1\n",
            "23.0     1\n",
            "Name: A11, dtype: int64 \n",
            "\n",
            "f    116\n",
            "t    100\n",
            "Name: A12, dtype: int64 \n",
            "\n",
            "g    216\n",
            "Name: A13, dtype: int64 \n",
            "\n",
            "00000    48\n",
            "00080    12\n",
            "00200    12\n",
            "00120    10\n",
            "00100     8\n",
            "         ..\n",
            "00432     1\n",
            "00032     1\n",
            "00396     1\n",
            "00395     1\n",
            "00174     1\n",
            "Name: A14, Length: 80, dtype: int64 \n",
            "\n",
            "1.0        9\n",
            "500.0      9\n",
            "1000.0     6\n",
            "6.0        5\n",
            "300.0      5\n",
            "          ..\n",
            "134.0      1\n",
            "1344.0     1\n",
            "321.0      1\n",
            "948.0      1\n",
            "26726.0    1\n",
            "Name: A15, Length: 152, dtype: int64 \n",
            "\n",
            "+    152\n",
            "-     64\n",
            "Name: A16, dtype: int64 \n",
            "\n"
          ],
          "name": "stdout"
        }
      ]
    },
    {
      "cell_type": "code",
      "metadata": {
        "id": "FH1zP1NkvXe4",
        "colab_type": "code",
        "colab": {}
      },
      "source": [
        "df['A2'] = pd.to_numeric(df['A2'])\n",
        "df['A14'] = pd.to_numeric(df['A14'])"
      ],
      "execution_count": 0,
      "outputs": []
    },
    {
      "cell_type": "code",
      "metadata": {
        "id": "fzbWzlZpu9bw",
        "colab_type": "code",
        "colab": {
          "base_uri": "https://localhost:8080/",
          "height": 306
        },
        "outputId": "80f912ca-dc6f-438e-8f09-e02bfdbd7471"
      },
      "source": [
        "df.dtypes"
      ],
      "execution_count": 55,
      "outputs": [
        {
          "output_type": "execute_result",
          "data": {
            "text/plain": [
              "A1      object\n",
              "A2     float64\n",
              "A3     float64\n",
              "A4      object\n",
              "A5      object\n",
              "A6      object\n",
              "A7      object\n",
              "A8     float64\n",
              "A9      object\n",
              "A10     object\n",
              "A11    float64\n",
              "A12     object\n",
              "A13     object\n",
              "A14    float64\n",
              "A15    float64\n",
              "A16     object\n",
              "dtype: object"
            ]
          },
          "metadata": {
            "tags": []
          },
          "execution_count": 55
        }
      ]
    },
    {
      "cell_type": "markdown",
      "metadata": {
        "id": "G7rLytbrO38L",
        "colab_type": "text"
      },
      "source": [
        "## Part 2 - Exploring data, Testing hypotheses\n",
        "\n",
        "The only thing we really know about this data is that A16 is the class label. Besides that, we have 6 continuous (float) features and 9 categorical features.\n",
        "\n",
        "Explore the data: you can use whatever approach (tables, utility functions, visualizations) to get an impression of the distributions and relationships of the variables. In general, your goal is to understand how the features are different when grouped by the two class labels (`+` and `-`).\n",
        "\n",
        "For the 6 continuous features, how are they different when split between the two class labels? Choose two features to run t-tests (again split by class label) - specifically, select one feature that is *extremely* different between the classes, and another feature that is notably less different (though perhaps still \"statistically significantly\" different). You may have to explore more than two features to do this.\n",
        "\n",
        "For the categorical features, explore by creating \"cross tabs\" (aka [contingency tables](https://en.wikipedia.org/wiki/Contingency_table)) between them and the class label, and apply the Chi-squared test to them. [pandas.crosstab](http://pandas.pydata.org/pandas-docs/stable/reference/api/pandas.crosstab.html) can create contingency tables, and [scipy.stats.chi2_contingency](https://docs.scipy.org/doc/scipy/reference/generated/scipy.stats.chi2_contingency.html) can calculate the Chi-squared statistic for them.\n",
        "\n",
        "There are 9 categorical features - as with the t-test, try to find one where the Chi-squared test returns an extreme result (rejecting the null that the data are independent), and one where it is less extreme.\n",
        "\n",
        "**NOTE** - \"less extreme\" just means smaller test statistic/larger p-value. Even the least extreme differences may be strongly statistically significant.\n",
        "\n",
        "Your *main* goal is the hypothesis tests, so don't spend too much time on the exploration/visualization piece. That is just a means to an end - use simple visualizations, such as boxplots or a scatter matrix (both built in to pandas), to get a feel for the overall distribution of the variables.\n",
        "\n",
        "This is challenging, so manage your time and aim for a baseline of at least running two t-tests and two Chi-squared tests before polishing. And don't forget to answer the questions in part 3, even if your results in this part aren't what you want them to be."
      ]
    },
    {
      "cell_type": "code",
      "metadata": {
        "id": "_nqcgc0yzm68",
        "colab_type": "code",
        "colab": {}
      },
      "source": [
        "plus = df[df['A16'] == \"+\"]\n",
        "minus = df[df['A16'] == \"-\"]"
      ],
      "execution_count": 0,
      "outputs": []
    },
    {
      "cell_type": "code",
      "metadata": {
        "id": "EExkLJvQxqpu",
        "colab_type": "code",
        "colab": {
          "base_uri": "https://localhost:8080/",
          "height": 136
        },
        "outputId": "b4a9c69b-ffc1-4f66-f029-b831b48f5f6c"
      },
      "source": [
        "plus.mean()"
      ],
      "execution_count": 57,
      "outputs": [
        {
          "output_type": "execute_result",
          "data": {
            "text/plain": [
              "A2       33.264238\n",
              "A3        6.368257\n",
              "A8        3.748618\n",
              "A11       7.197368\n",
              "A14     168.753333\n",
              "A15    2710.039474\n",
              "dtype: float64"
            ]
          },
          "metadata": {
            "tags": []
          },
          "execution_count": 57
        }
      ]
    },
    {
      "cell_type": "code",
      "metadata": {
        "id": "TsNQY2Rixw_r",
        "colab_type": "code",
        "colab": {
          "base_uri": "https://localhost:8080/",
          "height": 136
        },
        "outputId": "a598d3b2-d8e7-420e-e7c3-1282b96f17e2"
      },
      "source": [
        "minus.mean()"
      ],
      "execution_count": 58,
      "outputs": [
        {
          "output_type": "execute_result",
          "data": {
            "text/plain": [
              "A2      27.285000\n",
              "A3       4.284688\n",
              "A8       1.574063\n",
              "A11      2.437500\n",
              "A14    217.396825\n",
              "A15    280.718750\n",
              "dtype: float64"
            ]
          },
          "metadata": {
            "tags": []
          },
          "execution_count": 58
        }
      ]
    },
    {
      "cell_type": "code",
      "metadata": {
        "id": "N8gymIWCx6w0",
        "colab_type": "code",
        "colab": {
          "base_uri": "https://localhost:8080/",
          "height": 306
        },
        "outputId": "434a2add-3525-4be8-ad5c-6789b99ceb02"
      },
      "source": [
        "plus.isnull().sum()"
      ],
      "execution_count": 59,
      "outputs": [
        {
          "output_type": "execute_result",
          "data": {
            "text/plain": [
              "A1     3\n",
              "A2     1\n",
              "A3     0\n",
              "A4     0\n",
              "A5     0\n",
              "A6     0\n",
              "A7     0\n",
              "A8     0\n",
              "A9     0\n",
              "A10    0\n",
              "A11    0\n",
              "A12    0\n",
              "A13    0\n",
              "A14    2\n",
              "A15    0\n",
              "A16    0\n",
              "dtype: int64"
            ]
          },
          "metadata": {
            "tags": []
          },
          "execution_count": 59
        }
      ]
    },
    {
      "cell_type": "code",
      "metadata": {
        "id": "jYo3HXx7xzVd",
        "colab_type": "code",
        "colab": {
          "base_uri": "https://localhost:8080/",
          "height": 306
        },
        "outputId": "306cdfd0-2ecb-4731-bb14-0d28b7cb7b59"
      },
      "source": [
        "minus.isnull().sum()"
      ],
      "execution_count": 60,
      "outputs": [
        {
          "output_type": "execute_result",
          "data": {
            "text/plain": [
              "A1     0\n",
              "A2     0\n",
              "A3     0\n",
              "A4     0\n",
              "A5     0\n",
              "A6     0\n",
              "A7     0\n",
              "A8     0\n",
              "A9     0\n",
              "A10    0\n",
              "A11    0\n",
              "A12    0\n",
              "A13    0\n",
              "A14    1\n",
              "A15    0\n",
              "A16    0\n",
              "dtype: int64"
            ]
          },
          "metadata": {
            "tags": []
          },
          "execution_count": 60
        }
      ]
    },
    {
      "cell_type": "code",
      "metadata": {
        "id": "CfInFtlSyOax",
        "colab_type": "code",
        "colab": {
          "base_uri": "https://localhost:8080/",
          "height": 34
        },
        "outputId": "d851a6ac-4afd-47a6-8ca4-fb74a53a4c1e"
      },
      "source": [
        "ttest_ind(plus['A2'], minus['A2'],\n",
        "          nan_policy='omit')"
      ],
      "execution_count": 61,
      "outputs": [
        {
          "output_type": "execute_result",
          "data": {
            "text/plain": [
              "Ttest_indResult(statistic=3.280373007558489, pvalue=0.0012110990185272075)"
            ]
          },
          "metadata": {
            "tags": []
          },
          "execution_count": 61
        }
      ]
    },
    {
      "cell_type": "code",
      "metadata": {
        "id": "KPWHe9kOySjW",
        "colab_type": "code",
        "colab": {
          "base_uri": "https://localhost:8080/",
          "height": 34
        },
        "outputId": "398fd2aa-87f6-4a17-f011-ee87103a951c"
      },
      "source": [
        "ttest_ind(plus['A11'], minus['A11'],\n",
        "          nan_policy='omit')"
      ],
      "execution_count": 73,
      "outputs": [
        {
          "output_type": "execute_result",
          "data": {
            "text/plain": [
              "Ttest_indResult(statistic=5.071509805161119, pvalue=8.539732933766088e-07)"
            ]
          },
          "metadata": {
            "tags": []
          },
          "execution_count": 73
        }
      ]
    },
    {
      "cell_type": "code",
      "metadata": {
        "id": "lB13pfFpyhmP",
        "colab_type": "code",
        "colab": {}
      },
      "source": [
        "def ttest_tester(x,y):\n",
        "  num_com = ['A2','A3','A8','A11','A14','A15']\n",
        "  for i in num_com:\n",
        "    print(ttest_ind(x[i], y[i],\n",
        "          nan_policy='omit'))"
      ],
      "execution_count": 0,
      "outputs": []
    },
    {
      "cell_type": "code",
      "metadata": {
        "id": "1_ZIGTPIy0j4",
        "colab_type": "code",
        "colab": {
          "base_uri": "https://localhost:8080/",
          "height": 119
        },
        "outputId": "7d8db8a5-44d5-4437-f104-3c84911f2cdc"
      },
      "source": [
        "ttest_tester(plus, minus)"
      ],
      "execution_count": 69,
      "outputs": [
        {
          "output_type": "stream",
          "text": [
            "Ttest_indResult(statistic=3.280373007558489, pvalue=0.0012110990185272075)\n",
            "Ttest_indResult(statistic=2.478040446627391, pvalue=0.013984206242758984)\n",
            "Ttest_indResult(statistic=3.6766038888168247, pvalue=0.0002989067319772509)\n",
            "Ttest_indResult(statistic=5.071509805161119, pvalue=8.539732933766088e-07)\n",
            "Ttest_indResult(statistic=-1.6068913948991796, pvalue=0.10957360626219603)\n",
            "Ttest_indResult(statistic=2.934684378958489, pvalue=0.003703115030423184)\n"
          ],
          "name": "stdout"
        }
      ]
    },
    {
      "cell_type": "code",
      "metadata": {
        "id": "Y369u_8wzACA",
        "colab_type": "code",
        "colab": {
          "base_uri": "https://localhost:8080/",
          "height": 142
        },
        "outputId": "aa2d5cd4-71dd-423f-87c7-b0610e2d6b85"
      },
      "source": [
        "A9_cross_tab =pd.crosstab(df['A16'], df['A9'])\n",
        "A9_cross_tab"
      ],
      "execution_count": 70,
      "outputs": [
        {
          "output_type": "execute_result",
          "data": {
            "text/html": [
              "<div>\n",
              "<style scoped>\n",
              "    .dataframe tbody tr th:only-of-type {\n",
              "        vertical-align: middle;\n",
              "    }\n",
              "\n",
              "    .dataframe tbody tr th {\n",
              "        vertical-align: top;\n",
              "    }\n",
              "\n",
              "    .dataframe thead th {\n",
              "        text-align: right;\n",
              "    }\n",
              "</style>\n",
              "<table border=\"1\" class=\"dataframe\">\n",
              "  <thead>\n",
              "    <tr style=\"text-align: right;\">\n",
              "      <th>A9</th>\n",
              "      <th>f</th>\n",
              "      <th>t</th>\n",
              "    </tr>\n",
              "    <tr>\n",
              "      <th>A16</th>\n",
              "      <th></th>\n",
              "      <th></th>\n",
              "    </tr>\n",
              "  </thead>\n",
              "  <tbody>\n",
              "    <tr>\n",
              "      <th>+</th>\n",
              "      <td>1</td>\n",
              "      <td>151</td>\n",
              "    </tr>\n",
              "    <tr>\n",
              "      <th>-</th>\n",
              "      <td>51</td>\n",
              "      <td>13</td>\n",
              "    </tr>\n",
              "  </tbody>\n",
              "</table>\n",
              "</div>"
            ],
            "text/plain": [
              "A9    f    t\n",
              "A16         \n",
              "+     1  151\n",
              "-    51   13"
            ]
          },
          "metadata": {
            "tags": []
          },
          "execution_count": 70
        }
      ]
    },
    {
      "cell_type": "code",
      "metadata": {
        "id": "MwhBLr44zbEP",
        "colab_type": "code",
        "colab": {
          "base_uri": "https://localhost:8080/",
          "height": 102
        },
        "outputId": "7839cfa7-6aa4-4542-e1ed-8e57d8d8eb15"
      },
      "source": [
        "chi_squared_A9,pvalue_A9,dof_A9,expected_A9 = stats.chi2_contingency(A9_cross_tab)\n",
        "print(chi_squared_A9)\n",
        "print(pvalue_A9)\n",
        "print(dof_A9)\n",
        "print(expected_A9)"
      ],
      "execution_count": 71,
      "outputs": [
        {
          "output_type": "stream",
          "text": [
            "149.5964917423719\n",
            "2.124016083191611e-34\n",
            "1\n",
            "[[ 36.59259259 115.40740741]\n",
            " [ 15.40740741  48.59259259]]\n"
          ],
          "name": "stdout"
        }
      ]
    },
    {
      "cell_type": "code",
      "metadata": {
        "id": "bw_9vUi5zgib",
        "colab_type": "code",
        "colab": {
          "base_uri": "https://localhost:8080/",
          "height": 142
        },
        "outputId": "1ad8358d-08e3-4efd-be24-38206edc15e7"
      },
      "source": [
        "A12_cross_tab =pd.crosstab(df['A16'], df['A12'])\n",
        "A12_cross_tab"
      ],
      "execution_count": 78,
      "outputs": [
        {
          "output_type": "execute_result",
          "data": {
            "text/html": [
              "<div>\n",
              "<style scoped>\n",
              "    .dataframe tbody tr th:only-of-type {\n",
              "        vertical-align: middle;\n",
              "    }\n",
              "\n",
              "    .dataframe tbody tr th {\n",
              "        vertical-align: top;\n",
              "    }\n",
              "\n",
              "    .dataframe thead th {\n",
              "        text-align: right;\n",
              "    }\n",
              "</style>\n",
              "<table border=\"1\" class=\"dataframe\">\n",
              "  <thead>\n",
              "    <tr style=\"text-align: right;\">\n",
              "      <th>A12</th>\n",
              "      <th>f</th>\n",
              "      <th>t</th>\n",
              "    </tr>\n",
              "    <tr>\n",
              "      <th>A16</th>\n",
              "      <th></th>\n",
              "      <th></th>\n",
              "    </tr>\n",
              "  </thead>\n",
              "  <tbody>\n",
              "    <tr>\n",
              "      <th>+</th>\n",
              "      <td>87</td>\n",
              "      <td>65</td>\n",
              "    </tr>\n",
              "    <tr>\n",
              "      <th>-</th>\n",
              "      <td>29</td>\n",
              "      <td>35</td>\n",
              "    </tr>\n",
              "  </tbody>\n",
              "</table>\n",
              "</div>"
            ],
            "text/plain": [
              "A12   f   t\n",
              "A16        \n",
              "+    87  65\n",
              "-    29  35"
            ]
          },
          "metadata": {
            "tags": []
          },
          "execution_count": 78
        }
      ]
    },
    {
      "cell_type": "code",
      "metadata": {
        "id": "kYozxrDp0ADz",
        "colab_type": "code",
        "colab": {
          "base_uri": "https://localhost:8080/",
          "height": 102
        },
        "outputId": "fa2d5c3e-e1ce-4841-af87-84b027dec08d"
      },
      "source": [
        "chi_squared_A12,pvalue_A12,dof_A12,expected_A12 = stats.chi2_contingency(A12_cross_tab)\n",
        "print(chi_squared_A12)\n",
        "print(pvalue_A12)\n",
        "print(dof_A12)\n",
        "print(expected_A12)"
      ],
      "execution_count": 79,
      "outputs": [
        {
          "output_type": "stream",
          "text": [
            "2.1183790834845735\n",
            "0.14554050476630634\n",
            "1\n",
            "[[81.62962963 70.37037037]\n",
            " [34.37037037 29.62962963]]\n"
          ],
          "name": "stdout"
        }
      ]
    },
    {
      "cell_type": "markdown",
      "metadata": {
        "id": "ZM8JckA2bgnp",
        "colab_type": "text"
      },
      "source": [
        "## Part 3 - Analysis and Interpretation\n",
        "\n",
        "Now that you've looked at the data, answer the following questions:\n",
        "\n",
        "- Interpret and explain the two t-tests you ran - what do they tell you about the relationships between the continuous features you selected and the class labels?\n",
        "- Interpret and explain the two Chi-squared tests you ran - what do they tell you about the relationships between the categorical features you selected and the class labels?\n",
        "- What was the most challenging part of this sprint challenge?\n",
        "\n",
        "Answer with text, but feel free to intersperse example code/results or refer to it from earlier."
      ]
    },
    {
      "cell_type": "markdown",
      "metadata": {
        "id": "LIozLDNG2Uhu",
        "colab_type": "text"
      },
      "source": [
        "the Ttest A2 had one missing value in the plus and no missing values in the mean. The pvalue was <.005 so i would assume that we would fail to reject the null Hypothesis.\n",
        "\n",
        "the Ttest for A11 was very different from A2. The means of the plus and minus were vastly different. We would reject the null Hypothesis.\n",
        "\n",
        "My two chi tests are completely different\n",
        "\n",
        "The A9 chi square test came out high at 149 showing that there is no relationship between the groups (f/t)\n",
        "\n",
        "My A12 chi square test came out low at 2.1\n",
        "\n",
        "I think the most challenging part of the sprint challenge was trying to figure out which part of the data to use and how well I would be able to compare it."
      ]
    },
    {
      "cell_type": "markdown",
      "metadata": {
        "id": "pvs3_-sNWQv0",
        "colab_type": "text"
      },
      "source": [
        "## Part 4 - Bayesian vs Frequentist Statistics\n",
        "\n",
        "Using a minimum of 2-3 sentences, give an explanation of Bayesian and Frequentist statistics, and then compare and contrast these two approaches to statistical inference.\n",
        "\n"
      ]
    },
    {
      "cell_type": "markdown",
      "metadata": {
        "id": "h1oK1UaDWrI-",
        "colab_type": "text"
      },
      "source": [
        "Bayesian uses probabilities for both hypotheses and data. It depends on the prior and likelihood of observed data. \n",
        "\n",
        "Frequentist never uses or gives the probability of a hypothesis (no prior or posterior). It depends on the likelihood of the observed and unobserved data and does not require a prior.\n",
        "\n",
        "So the main difference is in how the probabiity is used. Frequentists use probability only to model certain processes broadly. Bayesians use probability more widely to model both sampling and other kinds of uncertainty\n",
        "\n",
        "\n",
        "\n",
        "\n",
        "\n",
        "\n",
        "\n",
        "                      \n"
      ]
    },
    {
      "cell_type": "markdown",
      "metadata": {
        "id": "XOequK5xpVz7",
        "colab_type": "text"
      },
      "source": [
        "# Stretch Goals: \n",
        "Do these to get a 3. These are not required in order to pass the Sprint Challenge.\n",
        "\n",
        "## Part 1: \n",
        "\n",
        "Make sure that all of your dataframe columns have the appropriate data types. *Hint:* If a column has the datatype of \"object\" even though it's made up of float or integer values, you can coerce it to act as a numeric column by using the `pd.to_numeric()` function. In order to get a 3 on this section make sure that your data exploration is particularly well commented, easy to follow, and thorough.\n",
        "\n",
        "## Part 2:\n",
        "\n",
        "Write functions that can calculate t-tests and chi^2 tests on all of the appropriate column combinations from the dataset. (Remember that certain tests require certain variable types.)\n",
        "\n",
        "## Part 3: \n",
        "\n",
        "Calculate and report confidence intervals on your most important mean estimates (choose at least two). Make some kind of a graphic or visualization to help us see visually how precise these estimates are.\n",
        "\n",
        "## Part 4:\n",
        "\n",
        "Give an extra awesome explanation of Bayesian vs Frequentist Statistics. Maybe use code or visualizations, or any other means necessary to show an above average grasp of these high level concepts."
      ]
    },
    {
      "cell_type": "code",
      "metadata": {
        "id": "NT37grnxqa05",
        "colab_type": "code",
        "colab": {}
      },
      "source": [
        "# You can work the stretch goals down here or back up in their regular sections\n",
        "# just make sure that they are labeled so that we can easily differentiate\n",
        "# your main work from the stretch goals."
      ],
      "execution_count": 0,
      "outputs": []
    }
  ]
}